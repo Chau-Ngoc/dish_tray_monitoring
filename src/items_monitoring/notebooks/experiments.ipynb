{
 "cells": [
  {
   "cell_type": "code",
   "execution_count": 5,
   "id": "f6327cec6ad94561",
   "metadata": {
    "ExecuteTime": {
     "end_time": "2025-06-23T02:42:27.007107Z",
     "start_time": "2025-06-23T02:42:26.071566Z"
    }
   },
   "outputs": [
    {
     "name": "stdout",
     "output_type": "stream",
     "text": [
      "/home/ngocchau/Documents/projects/items_monitoring/src/items_monitoring/dataset/videos/full_part_0.mp4\n"
     ]
    }
   ],
   "source": [
    "import cv2 as cv\n",
    "\n",
    "\n",
    "from pathlib import Path\n",
    "import matplotlib.pyplot as plt\n",
    "import random"
   ]
  },
  {
   "cell_type": "markdown",
   "id": "abf5a0510c1e080d",
   "metadata": {},
   "source": "# Plot random images from the train dataset"
  },
  {
   "cell_type": "code",
   "execution_count": null,
   "id": "aa113e1ebe2b6d21",
   "metadata": {},
   "outputs": [],
   "source": [
    "train_path = Path(\"/content/drive/MyDrive/Colab Notebooks/items_monitoring_dataset/Detection/images/train\")\n",
    "train_imgs = list(train_path.glob(\"*.jp*g\"))\n",
    "\n",
    "rand_imgs = random.sample(train_imgs, k=20)\n",
    "\n",
    "fig, axes = plt.subplots(4, 5, figsize=(16, 18))\n",
    "for ri, r in enumerate(axes):\n",
    "    for axi, ax in enumerate(r):\n",
    "        img_idx = axi + len(r) * ri\n",
    "\n",
    "        img = cv.imread(str(rand_imgs[img_idx]))\n",
    "        img = cv.cvtColor(img, cv.COLOR_BGR2RGB)\n",
    "\n",
    "        ax.imshow(img)\n",
    "        ax.set_title(f\"Image shape: {img.shape}\")\n",
    "        ax.axis(\"off\")\n",
    "\n",
    "plt.show()"
   ]
  },
  {
   "cell_type": "markdown",
   "id": "8aaaa89af726a5d6",
   "metadata": {},
   "source": "# Plot one frame from the camera footage"
  },
  {
   "cell_type": "code",
   "execution_count": null,
   "id": "bca51a79169ea762",
   "metadata": {},
   "outputs": [],
   "source": [
    "START_X, START_Y = 900, 0\n",
    "CROPPED_WIDTH, CROPPED_HEIGHT = 640, 640\n",
    "\n",
    "cap = cv.VideoCapture(\n",
    "    \"/content/drive/MyDrive/Colab Notebooks/items_monitoring_dataset/1473_CH05_20250501133703_154216.mp4\"\n",
    ")\n",
    "ret, frame = cap.read()\n",
    "frame = cv.cvtColor(frame, cv.COLOR_BGR2RGB)\n",
    "\n",
    "pt1 = (START_X, START_Y)\n",
    "pt2 = (START_X + CROPPED_WIDTH, START_Y + CROPPED_HEIGHT)\n",
    "cv.rectangle(frame, pt1, pt2, (0, 0, 255), 5)\n",
    "\n",
    "plt.imshow(frame)\n",
    "plt.title(f\"Frame shape: {frame.shape}\")\n",
    "plt.plot()"
   ]
  },
  {
   "cell_type": "code",
   "execution_count": null,
   "id": "ff506ef0804f4cbd",
   "metadata": {},
   "outputs": [],
   "source": []
  }
 ],
 "metadata": {},
 "nbformat": 4,
 "nbformat_minor": 5
}
